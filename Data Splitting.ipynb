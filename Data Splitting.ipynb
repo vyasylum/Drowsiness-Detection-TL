{
 "cells": [
  {
   "cell_type": "markdown",
   "metadata": {},
   "source": [
    "#Importing Requirements\n"
   ]
  },
  {
   "cell_type": "code",
   "execution_count": 4,
   "metadata": {},
   "outputs": [],
   "source": [
    "import os\n",
    "import shutil\n",
    "import glob\n",
    "from tqdm import tqdm"
   ]
  },
  {
   "cell_type": "markdown",
   "metadata": {},
   "source": [
    "#Reference for dataset\n",
    "\n",
    "0:subject ID:\n",
    "xxx\n",
    "\n",
    "1:image number:\n",
    "xxx\n",
    "\n",
    "2:gender:\n",
    "0 - male\n",
    "1 - famale\n",
    "\n",
    "3:glasses:\n",
    "0 - no\n",
    "1 - yes\n",
    "\n",
    "4:eye state:\n",
    "0 - close\n",
    "1 - open\n",
    "\n",
    "5:reflections:\n",
    "0 - none\n",
    "1 - low\n",
    "2 - high\n",
    "\n",
    "6:lighting conditions/image quality:\n",
    "0 - bad\n",
    "1 - good\n",
    "\n",
    "7:sensor type:\n",
    "01 - RealSense SR300 640x480\n",
    "02 - IDS Imaging, 1280x1024\n",
    "03 - Aptina Imagin 752x480\n",
    "\n",
    "example:\n",
    "s001_00123_0_0_0_0_0_01.png\n"
   ]
  },
  {
   "cell_type": "markdown",
   "metadata": {},
   "source": [
    "#Separating Dataset i.e Open/Closed Eyes\n"
   ]
  },
  {
   "cell_type": "code",
   "execution_count": 5,
   "metadata": {},
   "outputs": [
    {
     "name": "stderr",
     "output_type": "stream",
     "text": [
      "0it [00:00, ?it/s]\n",
      "100%|██████████| 3242/3242 [00:07<00:00, 407.82it/s] \n",
      "100%|██████████| 1114/1114 [00:05<00:00, 219.19it/s]\n",
      "100%|██████████| 679/679 [00:01<00:00, 388.44it/s]\n",
      "100%|██████████| 1069/1069 [00:02<00:00, 485.88it/s]\n",
      "100%|██████████| 736/736 [00:01<00:00, 524.22it/s]\n",
      "100%|██████████| 1012/1012 [00:02<00:00, 478.93it/s]\n",
      "100%|██████████| 624/624 [00:01<00:00, 617.08it/s]\n",
      "100%|██████████| 832/832 [00:01<00:00, 550.21it/s]\n",
      "100%|██████████| 387/387 [00:00<00:00, 483.34it/s]\n",
      "100%|██████████| 399/399 [00:01<00:00, 339.64it/s]\n",
      "100%|██████████| 1648/1648 [00:03<00:00, 424.89it/s]\n",
      "100%|██████████| 8728/8728 [00:19<00:00, 458.48it/s] \n",
      "100%|██████████| 3605/3605 [00:08<00:00, 400.59it/s] \n",
      "100%|██████████| 8884/8884 [00:16<00:00, 552.65it/s] \n",
      "100%|██████████| 1132/1132 [00:01<00:00, 807.61it/s] \n",
      "100%|██████████| 1889/1889 [00:04<00:00, 408.79it/s]\n",
      "100%|██████████| 1648/1648 [00:02<00:00, 588.92it/s]\n",
      "100%|██████████| 4410/4410 [00:06<00:00, 726.63it/s] \n",
      "100%|██████████| 6175/6175 [00:10<00:00, 574.59it/s] \n",
      "100%|██████████| 704/704 [00:01<00:00, 553.17it/s] \n",
      "100%|██████████| 987/987 [00:00<00:00, 1121.52it/s]\n",
      "100%|██████████| 382/382 [00:00<00:00, 1029.37it/s]\n",
      "100%|██████████| 522/522 [00:00<00:00, 1105.72it/s]\n",
      "100%|██████████| 752/752 [00:00<00:00, 1297.77it/s]\n",
      "100%|██████████| 1502/1502 [00:03<00:00, 400.33it/s]\n",
      "100%|██████████| 1246/1246 [00:01<00:00, 1170.12it/s]\n",
      "100%|██████████| 665/665 [00:03<00:00, 173.87it/s]\n",
      "100%|██████████| 736/736 [00:02<00:00, 327.84it/s]\n",
      "100%|██████████| 1393/1393 [00:01<00:00, 1042.40it/s]\n",
      "100%|██████████| 1384/1384 [00:02<00:00, 524.03it/s]\n",
      "100%|██████████| 1738/1738 [00:02<00:00, 617.30it/s] \n",
      "100%|██████████| 6162/6162 [00:23<00:00, 261.79it/s] \n",
      "100%|██████████| 681/681 [00:01<00:00, 390.21it/s]\n",
      "100%|██████████| 739/739 [00:02<00:00, 263.34it/s]\n",
      "100%|██████████| 642/642 [00:00<00:00, 1061.75it/s]\n",
      "100%|██████████| 6193/6193 [00:20<00:00, 307.50it/s] \n",
      "100%|██████████| 10257/10257 [00:43<00:00, 234.25it/s]\n"
     ]
    }
   ],
   "source": [
    "Raw_DIR= r'D:\\Projects\\Drivers Drowsiness Detection\\Dataset\\mrlEyes_2018_01' #Raw dataset directory location\n",
    "for dirpath, dirname, filenames in os.walk(Raw_DIR):\n",
    "  for i in tqdm([f for f in filenames if f.endswith('.png')]): #using f as iterator for filenames if all the files ends with .png\n",
    "    if i.split('_')[4]=='0': #4th index of the filename eg i=s0001_00001_0_0_0_0_0_01\n",
    "      shutil.copy(src=dirpath+'/'+i, dst=r'D:\\Projects\\Drivers Drowsiness Detection\\Dataset\\Prepared_Data\\Closed Eyes')\n",
    "    elif i.split('_')[4]=='1':\n",
    "      shutil.copy(src=dirpath+'/'+i,dst=r'D:\\Projects\\Drivers Drowsiness Detection\\Dataset\\Prepared_Data\\Open Eyes' )\n",
    "#after this, data was spilt into train and test (90:10)"
   ]
  }
 ],
 "metadata": {
  "interpreter": {
   "hash": "b00b4727ecd0e51d6aafc13214ddc4e5dc1fd88edd22d0ef9a44dcd45c82309d"
  },
  "kernelspec": {
   "display_name": "Python 3.9.7 64-bit",
   "language": "python",
   "name": "python3"
  },
  "language_info": {
   "codemirror_mode": {
    "name": "ipython",
    "version": 3
   },
   "file_extension": ".py",
   "mimetype": "text/x-python",
   "name": "python",
   "nbconvert_exporter": "python",
   "pygments_lexer": "ipython3",
   "version": "3.9.7"
  },
  "orig_nbformat": 4
 },
 "nbformat": 4,
 "nbformat_minor": 2
}
